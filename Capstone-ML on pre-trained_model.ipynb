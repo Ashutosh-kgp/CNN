{
 "cells": [
  {
   "cell_type": "code",
   "execution_count": 3,
   "metadata": {},
   "outputs": [],
   "source": [
    "import cv2\n",
    "import numpy as np\n",
    "import matplotlib.pyplot as plt\n",
    "import math\n",
    "import pandas as pd\n",
    "from os import listdir\n",
    "import tensorflow as tf"
   ]
  },
  {
   "cell_type": "markdown",
   "metadata": {},
   "source": [
    "# Inception v3-model as pre-trained"
   ]
  },
  {
   "cell_type": "code",
   "execution_count": 4,
   "metadata": {},
   "outputs": [],
   "source": [
    "result_array = np.empty((0, 2049))\n",
    "location = '/home/ashutosh/Downloads/final/data/bottleneck'\n",
    "folder_list = listdir(location)\n",
    "for folder in folder_list:\n",
    "   folder_loc = location+'/'+folder\n",
    "   file_list = listdir(folder_loc)\n",
    "   \n",
    "   for i in file_list:\n",
    "      \n",
    "       \n",
    "       file_list_loc = folder_loc+'/'+i\n",
    "       data1 = pd.read_csv(file_list_loc, header= None )\n",
    "       data1['label']=str(folder)\n",
    "       result_array = np.append(result_array,data1,axis= 0)\n",
    "     "
   ]
  },
  {
   "cell_type": "code",
   "execution_count": 5,
   "metadata": {},
   "outputs": [
    {
     "name": "stderr",
     "output_type": "stream",
     "text": [
      "/home/ashutosh/anaconda2/lib/python2.7/site-packages/sklearn/cross_validation.py:41: DeprecationWarning: This module was deprecated in version 0.18 in favor of the model_selection module into which all the refactored classes and functions are moved. Also note that the interface of the new CV iterators are different from that of this module. This module will be removed in 0.20.\n",
      "  \"This module will be removed in 0.20.\", DeprecationWarning)\n"
     ]
    }
   ],
   "source": [
    "from sklearn.ensemble import RandomForestClassifier\n",
    "from sklearn.datasets import make_classification\n",
    "from sklearn.cross_validation import train_test_split\n"
   ]
  },
  {
   "cell_type": "code",
   "execution_count": 6,
   "metadata": {},
   "outputs": [],
   "source": [
    "a=pd.DataFrame(data=result_array,index=None)"
   ]
  },
  {
   "cell_type": "code",
   "execution_count": 7,
   "metadata": {
    "scrolled": true
   },
   "outputs": [
    {
     "data": {
      "text/html": [
       "<div>\n",
       "<style scoped>\n",
       "    .dataframe tbody tr th:only-of-type {\n",
       "        vertical-align: middle;\n",
       "    }\n",
       "\n",
       "    .dataframe tbody tr th {\n",
       "        vertical-align: top;\n",
       "    }\n",
       "\n",
       "    .dataframe thead th {\n",
       "        text-align: right;\n",
       "    }\n",
       "</style>\n",
       "<table border=\"1\" class=\"dataframe\">\n",
       "  <thead>\n",
       "    <tr style=\"text-align: right;\">\n",
       "      <th></th>\n",
       "      <th>0</th>\n",
       "      <th>1</th>\n",
       "      <th>2</th>\n",
       "      <th>3</th>\n",
       "      <th>4</th>\n",
       "      <th>5</th>\n",
       "      <th>6</th>\n",
       "      <th>7</th>\n",
       "      <th>8</th>\n",
       "      <th>9</th>\n",
       "      <th>...</th>\n",
       "      <th>2039</th>\n",
       "      <th>2040</th>\n",
       "      <th>2041</th>\n",
       "      <th>2042</th>\n",
       "      <th>2043</th>\n",
       "      <th>2044</th>\n",
       "      <th>2045</th>\n",
       "      <th>2046</th>\n",
       "      <th>2047</th>\n",
       "      <th>2048</th>\n",
       "    </tr>\n",
       "  </thead>\n",
       "  <tbody>\n",
       "    <tr>\n",
       "      <th>0</th>\n",
       "      <td>0.050179</td>\n",
       "      <td>0.0459164</td>\n",
       "      <td>0.060399</td>\n",
       "      <td>0.102751</td>\n",
       "      <td>0.18661</td>\n",
       "      <td>0.165121</td>\n",
       "      <td>0.712611</td>\n",
       "      <td>0.111578</td>\n",
       "      <td>0.842013</td>\n",
       "      <td>0.537924</td>\n",
       "      <td>...</td>\n",
       "      <td>0.20893</td>\n",
       "      <td>0.231179</td>\n",
       "      <td>0.122581</td>\n",
       "      <td>0.119575</td>\n",
       "      <td>0.697753</td>\n",
       "      <td>0.0129136</td>\n",
       "      <td>0.155727</td>\n",
       "      <td>0.0171039</td>\n",
       "      <td>0.865757</td>\n",
       "      <td>miniature_poodle</td>\n",
       "    </tr>\n",
       "    <tr>\n",
       "      <th>1</th>\n",
       "      <td>0.0999482</td>\n",
       "      <td>0.2323</td>\n",
       "      <td>0.0423059</td>\n",
       "      <td>0.104555</td>\n",
       "      <td>0.13123</td>\n",
       "      <td>0.0107734</td>\n",
       "      <td>1.27607</td>\n",
       "      <td>0.197734</td>\n",
       "      <td>0.845233</td>\n",
       "      <td>0.916265</td>\n",
       "      <td>...</td>\n",
       "      <td>0.240444</td>\n",
       "      <td>0.0431595</td>\n",
       "      <td>0.227033</td>\n",
       "      <td>0.055953</td>\n",
       "      <td>0.191813</td>\n",
       "      <td>0.0296987</td>\n",
       "      <td>0.272326</td>\n",
       "      <td>0.0158828</td>\n",
       "      <td>0.534735</td>\n",
       "      <td>miniature_poodle</td>\n",
       "    </tr>\n",
       "    <tr>\n",
       "      <th>2</th>\n",
       "      <td>0.118071</td>\n",
       "      <td>0.0709096</td>\n",
       "      <td>0.243751</td>\n",
       "      <td>0.354234</td>\n",
       "      <td>0.0343956</td>\n",
       "      <td>0.219962</td>\n",
       "      <td>0.777092</td>\n",
       "      <td>0.231655</td>\n",
       "      <td>0.357017</td>\n",
       "      <td>0.0488026</td>\n",
       "      <td>...</td>\n",
       "      <td>0.0523061</td>\n",
       "      <td>0.190988</td>\n",
       "      <td>0.0467965</td>\n",
       "      <td>0.812012</td>\n",
       "      <td>0.191</td>\n",
       "      <td>0.150677</td>\n",
       "      <td>0.134026</td>\n",
       "      <td>0.0304239</td>\n",
       "      <td>0.928576</td>\n",
       "      <td>miniature_poodle</td>\n",
       "    </tr>\n",
       "    <tr>\n",
       "      <th>3</th>\n",
       "      <td>0.032067</td>\n",
       "      <td>0.107444</td>\n",
       "      <td>0.0250049</td>\n",
       "      <td>0.134558</td>\n",
       "      <td>0.366497</td>\n",
       "      <td>0.0522577</td>\n",
       "      <td>1.26727</td>\n",
       "      <td>0.346989</td>\n",
       "      <td>0.595926</td>\n",
       "      <td>0.1181</td>\n",
       "      <td>...</td>\n",
       "      <td>0.334611</td>\n",
       "      <td>0.154372</td>\n",
       "      <td>0.0285373</td>\n",
       "      <td>0.044147</td>\n",
       "      <td>0.0572905</td>\n",
       "      <td>0.138294</td>\n",
       "      <td>0.0118867</td>\n",
       "      <td>0.0823324</td>\n",
       "      <td>0.714819</td>\n",
       "      <td>miniature_poodle</td>\n",
       "    </tr>\n",
       "    <tr>\n",
       "      <th>4</th>\n",
       "      <td>0.0174831</td>\n",
       "      <td>0.214503</td>\n",
       "      <td>0.0434908</td>\n",
       "      <td>0.472031</td>\n",
       "      <td>0.0624217</td>\n",
       "      <td>0.0171231</td>\n",
       "      <td>0.0756213</td>\n",
       "      <td>0.00515916</td>\n",
       "      <td>0.191865</td>\n",
       "      <td>0.494156</td>\n",
       "      <td>...</td>\n",
       "      <td>0.0968009</td>\n",
       "      <td>0.396529</td>\n",
       "      <td>0.00999871</td>\n",
       "      <td>0.0301482</td>\n",
       "      <td>0.223478</td>\n",
       "      <td>0.0685591</td>\n",
       "      <td>0.281932</td>\n",
       "      <td>0.00929842</td>\n",
       "      <td>0.394226</td>\n",
       "      <td>miniature_poodle</td>\n",
       "    </tr>\n",
       "  </tbody>\n",
       "</table>\n",
       "<p>5 rows × 2049 columns</p>\n",
       "</div>"
      ],
      "text/plain": [
       "        0          1          2         3          4          5          6     \\\n",
       "0   0.050179  0.0459164   0.060399  0.102751    0.18661   0.165121   0.712611   \n",
       "1  0.0999482     0.2323  0.0423059  0.104555    0.13123  0.0107734    1.27607   \n",
       "2   0.118071  0.0709096   0.243751  0.354234  0.0343956   0.219962   0.777092   \n",
       "3   0.032067   0.107444  0.0250049  0.134558   0.366497  0.0522577    1.26727   \n",
       "4  0.0174831   0.214503  0.0434908  0.472031  0.0624217  0.0171231  0.0756213   \n",
       "\n",
       "         7         8          9           ...              2039       2040  \\\n",
       "0    0.111578  0.842013   0.537924        ...           0.20893   0.231179   \n",
       "1    0.197734  0.845233   0.916265        ...          0.240444  0.0431595   \n",
       "2    0.231655  0.357017  0.0488026        ...         0.0523061   0.190988   \n",
       "3    0.346989  0.595926     0.1181        ...          0.334611   0.154372   \n",
       "4  0.00515916  0.191865   0.494156        ...         0.0968009   0.396529   \n",
       "\n",
       "         2041       2042       2043       2044       2045        2046  \\\n",
       "0    0.122581   0.119575   0.697753  0.0129136   0.155727   0.0171039   \n",
       "1    0.227033   0.055953   0.191813  0.0296987   0.272326   0.0158828   \n",
       "2   0.0467965   0.812012      0.191   0.150677   0.134026   0.0304239   \n",
       "3   0.0285373   0.044147  0.0572905   0.138294  0.0118867   0.0823324   \n",
       "4  0.00999871  0.0301482   0.223478  0.0685591   0.281932  0.00929842   \n",
       "\n",
       "       2047              2048  \n",
       "0  0.865757  miniature_poodle  \n",
       "1  0.534735  miniature_poodle  \n",
       "2  0.928576  miniature_poodle  \n",
       "3  0.714819  miniature_poodle  \n",
       "4  0.394226  miniature_poodle  \n",
       "\n",
       "[5 rows x 2049 columns]"
      ]
     },
     "execution_count": 7,
     "metadata": {},
     "output_type": "execute_result"
    }
   ],
   "source": [
    "a.head()"
   ]
  },
  {
   "cell_type": "code",
   "execution_count": 11,
   "metadata": {},
   "outputs": [],
   "source": [
    "data=a\n",
    "df_x=data.iloc[:,0:-1]\n",
    "df_y=data.iloc[:,2048]"
   ]
  },
  {
   "cell_type": "code",
   "execution_count": 13,
   "metadata": {},
   "outputs": [],
   "source": [
    "\n",
    "data.to_csv(\"after_inception.csv\")"
   ]
  },
  {
   "cell_type": "code",
   "execution_count": 21,
   "metadata": {},
   "outputs": [
    {
     "data": {
      "text/plain": [
       "9933            boston_bull\n",
       "8393    rhodesian_ridgeback\n",
       "9596            entlebucher\n",
       "2920          affenpinscher\n",
       "8425         scotch_terrier\n",
       "Name: 2048, dtype: object"
      ]
     },
     "execution_count": 21,
     "metadata": {},
     "output_type": "execute_result"
    }
   ],
   "source": [
    "x_train, x_test, y_train, y_test = train_test_split(df_x, df_y, test_size=0.2, random_state=4)\n",
    "y_train.head()"
   ]
  },
  {
   "cell_type": "markdown",
   "metadata": {},
   "source": [
    "# Random Forest "
   ]
  },
  {
   "cell_type": "code",
   "execution_count": 25,
   "metadata": {},
   "outputs": [
    {
     "name": "stdout",
     "output_type": "stream",
     "text": [
      "train:0.9995108230402348\n",
      "train:0.9995108230402348\n",
      "Test_accuracy 0.8757946210268949\n"
     ]
    }
   ],
   "source": [
    "rf=RandomForestClassifier(n_estimators=100)\n",
    "rf.fit(x_train,y_train)\n",
    "print(\"train:\"+str(rf.score(x_train.values,y_train.values)))\n",
    "pred=rf.predict(x_test)\n",
    "print(\"Test_accuracy \"+str(rf.score(x_test.values,y_test.values)))"
   ]
  },
  {
   "cell_type": "markdown",
   "metadata": {},
   "source": [
    "# Random_forest_in_loop"
   ]
  },
  {
   "cell_type": "code",
   "execution_count": 31,
   "metadata": {},
   "outputs": [
    {
     "name": "stdout",
     "output_type": "stream",
     "text": [
      "Estimators:40\n",
      "train:0.9974318209612327\n",
      "Test_accuracy 0.8068459657701712\n",
      "Estimators:70\n",
      "train:0.9993885288002935\n",
      "Test_accuracy 0.8694376528117359\n",
      "Estimators:100\n",
      "train:0.9995108230402348\n",
      "Test_accuracy 0.8713936430317848\n",
      "Estimators:130\n",
      "train:0.9995108230402348\n",
      "Test_accuracy 0.8797066014669926\n",
      "Estimators:160\n",
      "train:0.9995108230402348\n",
      "Test_accuracy 0.8767726161369194\n",
      "Estimators:190\n",
      "train:0.9995108230402348\n",
      "Test_accuracy 0.8831295843520782\n",
      "Estimators:220\n",
      "train:0.9995108230402348\n",
      "Test_accuracy 0.8801955990220048\n",
      "Estimators:250\n",
      "train:0.9995108230402348\n",
      "Test_accuracy 0.8860635696821516\n",
      "Estimators:280\n",
      "train:0.9995108230402348\n",
      "Test_accuracy 0.8816625916870415\n",
      "Estimators:310\n",
      "train:0.9995108230402348\n",
      "Test_accuracy 0.8865525672371638\n",
      "Estimators:340\n",
      "train:0.9995108230402348\n",
      "Test_accuracy 0.8777506112469438\n",
      "Estimators:370\n",
      "train:0.9995108230402348\n",
      "Test_accuracy 0.8904645476772616\n",
      "Estimators:400\n",
      "train:0.9995108230402348\n",
      "Test_accuracy 0.882640586797066\n",
      "Estimators:430\n",
      "train:0.9995108230402348\n",
      "Test_accuracy 0.888997555012225\n",
      "Estimators:460\n",
      "train:0.9995108230402348\n",
      "Test_accuracy 0.8860635696821516\n",
      "Estimators:490\n",
      "train:0.9995108230402348\n",
      "Test_accuracy 0.8850855745721271\n",
      "Estimators:520\n",
      "train:0.9995108230402348\n",
      "Test_accuracy 0.8821515892420538\n"
     ]
    }
   ],
   "source": [
    "i=10\n",
    "while i<500:\n",
    "    rf=RandomForestClassifier(n_estimators=i)\n",
    "    i=i+30\n",
    "    rf.fit(x_train,y_train)\n",
    "    print(\"Estimators:\"+str(i))\n",
    "    print(\"train:\"+str(rf.score(x_train.values,y_train.values)))\n",
    "    pred=rf.predict(x_test)\n",
    "    print(\"Test_accuracy \"+str(rf.score(x_test.values,y_test.values)))"
   ]
  },
  {
   "cell_type": "markdown",
   "metadata": {},
   "source": [
    "# svm\n"
   ]
  },
  {
   "cell_type": "code",
   "execution_count": 28,
   "metadata": {},
   "outputs": [
    {
     "name": "stdout",
     "output_type": "stream",
     "text": [
      "train:0.9195303901186254\n",
      "Test_accuracy 0.8904645476772616\n"
     ]
    }
   ],
   "source": [
    "from sklearn.svm import SVC\n",
    "clf = SVC()\n",
    "clf.fit(x_train,y_train)\n",
    "print(\"train:\"+str(clf.score(x_train.values,y_train.values)))\n",
    "pred=clf.predict(x_test)\n",
    "print(\"Test_accuracy \"+str(clf.score(x_test.values,y_test.values)))"
   ]
  },
  {
   "cell_type": "markdown",
   "metadata": {},
   "source": [
    "# KNN"
   ]
  },
  {
   "cell_type": "code",
   "execution_count": 30,
   "metadata": {},
   "outputs": [
    {
     "name": "stdout",
     "output_type": "stream",
     "text": [
      "train:0.8719579307814602\n",
      "Test_accuracy 0.8528117359413203\n"
     ]
    }
   ],
   "source": [
    "from sklearn.neighbors import KNeighborsClassifier\n",
    "neigh = KNeighborsClassifier(n_neighbors=119)\n",
    "neigh.fit(x_train,y_train)\n",
    "print(\"train:\"+str(neigh.score(x_train.values,y_train.values)))\n",
    "pred=neigh.predict(x_test)\n",
    "print(\"Test_accuracy \"+str(neigh.score(x_test.values,y_test.values)))"
   ]
  },
  {
   "cell_type": "code",
   "execution_count": null,
   "metadata": {},
   "outputs": [],
   "source": []
  },
  {
   "cell_type": "code",
   "execution_count": null,
   "metadata": {},
   "outputs": [],
   "source": []
  }
 ],
 "metadata": {
  "kernelspec": {
   "display_name": "Python 2",
   "language": "python",
   "name": "python2"
  },
  "language_info": {
   "codemirror_mode": {
    "name": "ipython",
    "version": 2
   },
   "file_extension": ".py",
   "mimetype": "text/x-python",
   "name": "python",
   "nbconvert_exporter": "python",
   "pygments_lexer": "ipython2",
   "version": "2.7.14"
  }
 },
 "nbformat": 4,
 "nbformat_minor": 2
}
